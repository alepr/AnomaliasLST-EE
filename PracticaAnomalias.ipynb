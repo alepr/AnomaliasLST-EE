{
 "cells": [
  {
   "cell_type": "markdown",
   "metadata": {},
   "source": [
    "# Cálculo de las Anomalias\n",
    "Autor: Alejandro Pareja Rodríguez\n",
    "- Basado en el script de Álvaro Salazar"
   ]
  },
  {
   "cell_type": "markdown",
   "metadata": {},
   "source": [
    "## Paso 1: Importar librerias necesarias\n",
    "* earthengine-api: Es una librería para Python y para Javascript cuya función es conectarse a los servidores de Earth Engine\n",
    "* Pandas: Librería para manejo de dataframe\n",
    "* Geopandas: Librería basada en pandas para manejo de archivos vectoriales\n",
    "* Matplotlib y Seaborn: Librería para el desarrollo de Gráficas\n",
    "* Json: Permite codificar y decodificar datos en formato JSON para intercambiar información estructurada entre sistemas\n"
   ]
  },
  {
   "cell_type": "code",
   "execution_count": null,
   "metadata": {},
   "outputs": [],
   "source": []
  },
  {
   "cell_type": "markdown",
   "metadata": {},
   "source": [
    "## Paso 2: Crear variables principales y llamar a la Colección de MODIS para Temperatura Superficial Terrestre"
   ]
  },
  {
   "cell_type": "code",
   "execution_count": null,
   "metadata": {},
   "outputs": [],
   "source": []
  },
  {
   "cell_type": "markdown",
   "metadata": {},
   "source": [
    "## Paso 3: Se Requiere de el cálculo del número de meses para generar una secuencia de meses desde el año inicial (startYear) hasta el año final (endYear), eso puedes hacerlo desde Local o desde Server"
   ]
  },
  {
   "cell_type": "markdown",
   "metadata": {},
   "source": [
    "### Desde máquina Local"
   ]
  },
  {
   "cell_type": "code",
   "execution_count": null,
   "metadata": {},
   "outputs": [],
   "source": []
  },
  {
   "cell_type": "markdown",
   "metadata": {},
   "source": [
    "### Desde máquina Server"
   ]
  },
  {
   "cell_type": "code",
   "execution_count": null,
   "metadata": {},
   "outputs": [],
   "source": []
  },
  {
   "cell_type": "code",
   "execution_count": null,
   "metadata": {},
   "outputs": [],
   "source": []
  },
  {
   "cell_type": "markdown",
   "metadata": {},
   "source": [
    "## Paso 4: La Colección de imagenes requiere de un pre-procesamiento\n",
    "* En el [Earth Engine Data Catalog](https://developers.google.com/earth-engine/datasets/catalog/MODIS_061_MOD11A1) de MODIS se especifica un valor de __scale__ que representa la pendiente de una curva y también existe una columna __offset__ que en caso de que exista es la intersección a la curva por lo tanto se realiza la siguiente operación:\n",
    "$$ \\text{Imagen}_{preprocesado} = \\text{offset} + \\text{scale} \\cdot \\text{Imagen}_{inicial} $$\n",
    "* En este caso solo se tiene un valor en __scale__ por lo tanto el LST inicial sera multiplicado por 0.02 según las especificaciones del [Earth Engine Data Catalog](https://developers.google.com/earth-engine/datasets/catalog/MODIS_061_MOD11A1)\n",
    "* por último se resta por el factor de 273.15 para convertir de grados Kelvin a grados Celsius"
   ]
  },
  {
   "cell_type": "code",
   "execution_count": null,
   "metadata": {},
   "outputs": [],
   "source": []
  },
  {
   "cell_type": "markdown",
   "metadata": {},
   "source": [
    "## Paso 5: Cálculo de la medía mensual Temperatura Superficial Terrestre"
   ]
  },
  {
   "cell_type": "code",
   "execution_count": null,
   "metadata": {},
   "outputs": [],
   "source": [
    "\n"
   ]
  },
  {
   "cell_type": "markdown",
   "metadata": {},
   "source": [
    "### Podemos imprimir la cantidad de imagenes que han sido creadas en la colección de imagenes"
   ]
  },
  {
   "cell_type": "code",
   "execution_count": null,
   "metadata": {},
   "outputs": [],
   "source": []
  },
  {
   "cell_type": "markdown",
   "metadata": {},
   "source": [
    "### También los índices de cada imagen creada, entre otras cosas"
   ]
  },
  {
   "cell_type": "code",
   "execution_count": null,
   "metadata": {},
   "outputs": [],
   "source": []
  },
  {
   "cell_type": "code",
   "execution_count": null,
   "metadata": {},
   "outputs": [],
   "source": []
  },
  {
   "cell_type": "markdown",
   "metadata": {},
   "source": [
    "## Paso 6: Cálculo de la media anual de Temperatura Superficial Terrestre"
   ]
  },
  {
   "cell_type": "markdown",
   "metadata": {},
   "source": [
    "### Ejercicio resolver Cálculo de la media Anual de Temperatura Superficial terrestre usando la collección de imagenes monthly creada en el paso 5"
   ]
  },
  {
   "cell_type": "code",
   "execution_count": null,
   "metadata": {},
   "outputs": [],
   "source": [
    "\n"
   ]
  },
  {
   "cell_type": "code",
   "execution_count": null,
   "metadata": {},
   "outputs": [],
   "source": []
  },
  {
   "cell_type": "code",
   "execution_count": null,
   "metadata": {},
   "outputs": [],
   "source": []
  },
  {
   "cell_type": "markdown",
   "metadata": {},
   "source": [
    "### Otra forma de resolverlo"
   ]
  },
  {
   "cell_type": "code",
   "execution_count": null,
   "metadata": {},
   "outputs": [],
   "source": []
  },
  {
   "cell_type": "markdown",
   "metadata": {},
   "source": [
    "## Paso 7: Cálculo de las anomalias anuales según formula: \n",
    "$ \\text{LST}_{anomaly_i} = \\text{LST}_{i} - \\overline{LST}_{anual}$\n",
    "\n",
    "Donde:\n",
    "\n",
    "$LST_{anomaly} = $ Es la Anomalia de Temperatura superficial Terrestre en el año ${i}$\n",
    "\n",
    "$LST_{i} = $ es la Temperatura de la Superficie Terrestre en el año ${i}$\n",
    "\n",
    "$ \\overline{LST}_{anual} = $ es la Temperatura de la Superficie Terrestre promedio "
   ]
  },
  {
   "cell_type": "code",
   "execution_count": null,
   "metadata": {},
   "outputs": [],
   "source": []
  },
  {
   "cell_type": "markdown",
   "metadata": {},
   "source": [
    "## Paso 8: Cálculo de las anomalias mensuales según formula: \n",
    "$ \\text{LST}_{anomaly_{ij}} = \\text{LST}_{ij} - \\overline{LST}_{mes}$\n",
    "\n",
    "Donde:\n",
    "\n",
    "$LST_{anomaly} = $ Es la Anomalia de Temperatura superficial Terrestre en el mes ${i}$ y año ${j}$\n",
    "\n",
    "$LST_{ij} = $ es la Temperatura de la Superficie Terrestre en el mes ${i}$ y año ${j}$\n",
    "\n",
    "$ \\overline{LST}_{anual} = $ es la Temperatura de la Superficie Terrestre mensual promedio, aquí se cálcula el promedio del mes en todos los años de estudio "
   ]
  },
  {
   "cell_type": "code",
   "execution_count": null,
   "metadata": {},
   "outputs": [],
   "source": []
  },
  {
   "cell_type": "markdown",
   "metadata": {},
   "source": [
    "# Parece que el script realizado en Python no tiene Ventaja alguna hasta este momento "
   ]
  },
  {
   "cell_type": "markdown",
   "metadata": {},
   "source": [
    "## Exportación de los rasters al Google Drive Anomalias anuales"
   ]
  },
  {
   "cell_type": "markdown",
   "metadata": {},
   "source": [
    "### Generar un geoDataFrame de un shapefile de municipios y localizar solo el área de interes\n",
    "\n",
    "Consideraciones para usar esta metodología:\n",
    "* En lo posible el vectorial no debe llevar Vectoriales multiparte\n",
    "* Existe un límite para la devolución de la información del servidor al local por lo tanto mientras más sencillo sea el vectorial en cuestion de atributos, \"features\" y geometria mejor."
   ]
  },
  {
   "cell_type": "code",
   "execution_count": null,
   "metadata": {},
   "outputs": [],
   "source": []
  },
  {
   "cell_type": "code",
   "execution_count": null,
   "metadata": {},
   "outputs": [],
   "source": []
  },
  {
   "cell_type": "markdown",
   "metadata": {},
   "source": [
    "### Método para pasar el GeoDataFrame a los servidores de Google Earth Engine sin necesidad de cargarlo como asset"
   ]
  },
  {
   "cell_type": "code",
   "execution_count": null,
   "metadata": {},
   "outputs": [],
   "source": []
  },
  {
   "cell_type": "markdown",
   "metadata": {},
   "source": [
    "### Bucle para realizar las descargas de los rasters por año"
   ]
  },
  {
   "cell_type": "markdown",
   "metadata": {},
   "source": [
    "listaAnomalias = anomalyYear.aggregate_array(\"system:index\").getInfo()\n",
    "for año in listaAnomalias:\n",
    "    task = ee.batch.Export.image.toDrive(image=anomalyYear.filter(ee.Filter.eq(\"system:index\", año)).first(), description=f\"LSTAnom{año}\", folder=\"LSTAnom\", region=corte.geometry(), scale=1000, crs=\"EPSG:4326\", maxPixels=1e13 )\n",
    "    task.start()"
   ]
  },
  {
   "cell_type": "markdown",
   "metadata": {},
   "source": [
    "## Reducción de regiones directo a un GeoDataFrame"
   ]
  },
  {
   "cell_type": "markdown",
   "metadata": {},
   "source": [
    "### Reducción mensual"
   ]
  },
  {
   "cell_type": "code",
   "execution_count": null,
   "metadata": {},
   "outputs": [],
   "source": []
  },
  {
   "cell_type": "code",
   "execution_count": null,
   "metadata": {},
   "outputs": [],
   "source": []
  },
  {
   "cell_type": "code",
   "execution_count": null,
   "metadata": {},
   "outputs": [],
   "source": []
  },
  {
   "cell_type": "code",
   "execution_count": null,
   "metadata": {},
   "outputs": [],
   "source": []
  },
  {
   "cell_type": "code",
   "execution_count": null,
   "metadata": {},
   "outputs": [],
   "source": []
  },
  {
   "cell_type": "code",
   "execution_count": null,
   "metadata": {},
   "outputs": [],
   "source": []
  },
  {
   "cell_type": "code",
   "execution_count": null,
   "metadata": {},
   "outputs": [],
   "source": []
  },
  {
   "cell_type": "code",
   "execution_count": null,
   "metadata": {},
   "outputs": [],
   "source": []
  },
  {
   "cell_type": "code",
   "execution_count": null,
   "metadata": {},
   "outputs": [],
   "source": []
  },
  {
   "cell_type": "code",
   "execution_count": null,
   "metadata": {},
   "outputs": [],
   "source": []
  },
  {
   "cell_type": "markdown",
   "metadata": {},
   "source": [
    "### Reducción anual"
   ]
  },
  {
   "cell_type": "markdown",
   "metadata": {},
   "source": [
    "### Ejercicio hagan el mismo procedimiento para Anomalías Anuales"
   ]
  },
  {
   "cell_type": "code",
   "execution_count": null,
   "metadata": {},
   "outputs": [],
   "source": []
  },
  {
   "cell_type": "code",
   "execution_count": null,
   "metadata": {},
   "outputs": [],
   "source": []
  },
  {
   "cell_type": "code",
   "execution_count": null,
   "metadata": {},
   "outputs": [],
   "source": []
  },
  {
   "cell_type": "code",
   "execution_count": null,
   "metadata": {},
   "outputs": [],
   "source": []
  },
  {
   "cell_type": "code",
   "execution_count": null,
   "metadata": {},
   "outputs": [],
   "source": []
  },
  {
   "cell_type": "code",
   "execution_count": null,
   "metadata": {},
   "outputs": [],
   "source": []
  },
  {
   "cell_type": "code",
   "execution_count": null,
   "metadata": {},
   "outputs": [],
   "source": []
  },
  {
   "cell_type": "markdown",
   "metadata": {},
   "source": [
    "# Plus 1: En caso que quieran correr modelos más grandes como es el caso de Santa Cruz donde hay limitación de memoría"
   ]
  },
  {
   "cell_type": "code",
   "execution_count": null,
   "metadata": {},
   "outputs": [],
   "source": []
  },
  {
   "cell_type": "code",
   "execution_count": null,
   "metadata": {},
   "outputs": [],
   "source": []
  },
  {
   "cell_type": "code",
   "execution_count": null,
   "metadata": {},
   "outputs": [],
   "source": [
    "\n"
   ]
  },
  {
   "cell_type": "code",
   "execution_count": null,
   "metadata": {},
   "outputs": [],
   "source": []
  },
  {
   "cell_type": "code",
   "execution_count": null,
   "metadata": {},
   "outputs": [],
   "source": []
  },
  {
   "cell_type": "markdown",
   "metadata": {},
   "source": [
    "# Plus 2: En caso de que quieras meses especificos "
   ]
  },
  {
   "cell_type": "code",
   "execution_count": null,
   "metadata": {},
   "outputs": [],
   "source": []
  },
  {
   "cell_type": "code",
   "execution_count": null,
   "metadata": {},
   "outputs": [],
   "source": []
  },
  {
   "cell_type": "code",
   "execution_count": null,
   "metadata": {},
   "outputs": [],
   "source": []
  },
  {
   "cell_type": "code",
   "execution_count": null,
   "metadata": {},
   "outputs": [],
   "source": []
  },
  {
   "cell_type": "code",
   "execution_count": null,
   "metadata": {},
   "outputs": [],
   "source": []
  }
 ],
 "metadata": {
  "kernelspec": {
   "display_name": "gis",
   "language": "python",
   "name": "python3"
  },
  "language_info": {
   "codemirror_mode": {
    "name": "ipython",
    "version": 3
   },
   "file_extension": ".py",
   "mimetype": "text/x-python",
   "name": "python",
   "nbconvert_exporter": "python",
   "pygments_lexer": "ipython3",
   "version": "3.12.3"
  }
 },
 "nbformat": 4,
 "nbformat_minor": 2
}
